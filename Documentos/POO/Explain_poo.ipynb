{
 "cells": [
  {
   "cell_type": "markdown",
   "metadata": {},
   "source": [
    "# PROGRAMACIÓN ORIENTADA A OBJETOS en C#\n",
    "En esta sección, se desea explicar sobre la programación orientada a objetos (POO). La POO es un paradigma de programación que utiliza \"objetos\" y sus interacciones para diseñar aplicaciones y programas. Los conceptos clave de la POO incluyen clases, objetos, herencia, polimorfismo, encapsulamiento y abstracción.\n",
    "\n",
    "Los 4 Pilares de la Programación Orientada a Objetos (POO)\n",
    "La Programación Orientada a Objetos (POO) se basa en cuatro pilares fundamentales que permiten organizar y estructurar el código de manera eficiente y modular. Estos pilares son: Abstracción, Encapsulamiento, Herencia y Polimorfismo. A continuación, te explico cada uno de ellos y cómo se aplican en un ejemplo con la clase Persona.\n",
    "\n",
    "## 1. Abstracción\n",
    "La abstracción consiste en simplificar la complejidad del mundo real al modelar solo los aspectos relevantes de un objeto para un contexto específico. En otras palabras, nos permite centrarnos en lo que un objeto hace, sin preocuparnos por cómo lo hace internamente.\n",
    "\n",
    "Ejemplo con la clase Persona:\n",
    "\n",
    "Al diseñar una clase Persona, nos enfocamos en sus características esenciales, como su nombre, edad y género, y en sus comportamientos clave, como caminar o hablar. No necesitamos detallar cómo se realizan internamente estas acciones.\n",
    "\n",
    "## 2. Encapsulamiento\n",
    "El encapsulamiento es el mecanismo que oculta los detalles internos de un objeto y restringe el acceso directo a sus datos. Esto se logra mediante el uso de modificadores de acceso (como private, public o protected) y métodos públicos (getters y setters) para interactuar con los atributos.\n",
    "\n",
    "Ejemplo con la clase Persona:\n",
    "\n",
    "Los atributos de la clase Persona, como la edad o el nombre, pueden ser declarados como private para evitar que se modifiquen directamente desde fuera de la clase. En su lugar, se proporcionan métodos públicos (getEdad() y setEdad()) para acceder y modificar estos valores de manera controlada.\n",
    "\n",
    "## 3. Herencia\n",
    "La herencia permite crear nuevas clases a partir de clases existentes, reutilizando y extendiendo su funcionalidad. La clase original se llama clase base o superclase, y la nueva clase se llama clase derivada o subclase.\n",
    "\n",
    "Ejemplo con la clase Persona:\n",
    "\n",
    "Supongamos que queremos crear una clase Estudiante que comparta características con la clase Persona, como nombre y edad, pero que también tenga atributos específicos, como el número de matrícula. En este caso, Estudiante hereda de Persona y añade sus propios atributos y métodos.\n",
    "\n",
    "## 4. Polimorfismo\n",
    "El polimorfismo permite que un objeto pueda tomar múltiples formas. Esto significa que una misma operación puede comportarse de manera diferente según el contexto en el que se utilice. Se logra mediante la sobrescritura de métodos (en herencia) o la implementación de interfaces.\n",
    "\n",
    "### Ejemplo con la clase Persona:\n",
    "\n",
    "Imagina que la clase Persona tiene un método Saludar(). Las clases derivadas, como Estudiante o Profesor, pueden sobrescribir este método para proporcionar una implementación específica. Por ejemplo, un Estudiante podría saludar diciendo \"Hola, soy un estudiante\", mientras que un Profesor podría decir \"Buenos días, soy el profesor\".\n",
    "\n",
    "Ejemplo Integrado: Clase Persona\n",
    "Aplicando los cuatro pilares, podemos diseñar una clase Persona de la siguiente manera:\n",
    "\n",
    "Abstracción:\n",
    "\n",
    "La clase Persona se centra en los atributos esenciales (nombre, edad, género) y comportamientos clave (caminar, hablar).\n",
    "\n",
    "Encapsulamiento:\n",
    "\n",
    "Los atributos como nombre y edad son privados, y se accede a ellos mediante métodos públicos como getNombre() y setEdad().\n",
    "\n",
    "Herencia:\n",
    "\n",
    "La clase Estudiante hereda de Persona y añade atributos específicos, como numeroMatricula.\n",
    "\n",
    "Polimorfismo:\n",
    "\n",
    "Tanto Persona como Estudiante tienen un método Saludar(), pero cada uno lo implementa de manera diferente.\n"
   ]
  },
  {
   "cell_type": "markdown",
   "metadata": {},
   "source": [
    "### Primer paso, entender la generación de una clase\n",
    "una clase tiene distintos apartados que se explican paso a paso."
   ]
  },
  {
   "cell_type": "code",
   "execution_count": null,
   "metadata": {
    "vscode": {
     "languageId": "polyglot-notebook"
    }
   },
   "outputs": [],
   "source": [
    "// Primero generar la clase persona\n",
    "class Persona {\n",
    "\n",
    "    // Ahora, generar los atributos de la clase\n",
    "    #region Atributos\n",
    "    private string _nombre;\n",
    "    private int _id;\n",
    "    private int _edad;   \n",
    "    private String _sexo;\n",
    "    #endregion\n",
    "    // Ahora, generar los constructores de la clase\n",
    "    #region Constructores\n",
    "    public Persona() {\n",
    "        this._nombre = \"\";\n",
    "        this._id = 0;\n",
    "        this._edad = 0;\n",
    "        this._sexo = \"\";\n",
    "    }\n",
    "    public Persona(string nombre, int id, int edad, string sexo) {\n",
    "        this._nombre = nombre;\n",
    "        this._id = id;\n",
    "        this._edad = edad;\n",
    "        this._sexo = sexo;\n",
    "    }  \n",
    "    public Persona(int id, string sexo) {\n",
    "        this._nombre = \"NoSabe\";\n",
    "        this._id = id;\n",
    "        this._edad = 0;\n",
    "        this._sexo = sexo;\n",
    "    }\n",
    "    // En los constructores, se pueden formar una variedad enorme dependiendo de la cantidad que se deseo o como se utilice\n",
    "    #endregion\n",
    "    // Destructores\n",
    "    #region Destructores\n",
    "    ~Persona() {\n",
    "        // Aqui se puede liberar la memoria\n",
    "    }\n",
    "    #endregion\n",
    "    // Ahora, generar los metodos de la clase\n",
    "    #region Metodos\n",
    "    public void MostrarDatos() {\n",
    "        Console.Write(\"Nombre: \" + this._nombre);\n",
    "        Console.Write(\" ID: \" + this._id);\n",
    "        Console.Write(\" Edad: \" + this._edad);\n",
    "        Console.Write(\" Sexo: \" + this._sexo);\n",
    "    }\n",
    "    public void Cumpleaños() {\n",
    "        this._edad++;\n",
    "    }\n",
    "    // En los metodos, se pueden formar una variedad enorme dependiendo de la cantidad que se deseo o como se utilice\n",
    "    #endregion\n",
    "    // Ahora, generar las propiedades de la clase\n",
    "    #region Propiedades\n",
    "    public string Nombre {\n",
    "        get { return this._nombre; }\n",
    "        set { this._nombre = value; }\n",
    "    }\n",
    "    public int Id {\n",
    "        get { return this._id; }\n",
    "        set { this._id = value; }\n",
    "    }\n",
    "    public int Edad {\n",
    "        get { return this._edad; }\n",
    "        set { this._edad = value; }\n",
    "    }\n",
    "    public string Sexo {\n",
    "        get { return this._sexo; }\n",
    "        set { this._sexo = value; }\n",
    "    }\n",
    "    // En las propiedades, se pueden formar una variedad enorme dependiendo de la cantidad que se deseo o como se utilice\n",
    "    #endregion\n",
    "    // Ahora, generar los eventos de la clase\n",
    "    #region Eventos\n",
    "    // En los eventos, se pueden formar una variedad enorme dependiendo de la cantidad que se deseo o como se utilice\n",
    "    #endregion\n",
    "    // Ahora, generar los delegados de la clase\n",
    "    #region Delegados\n",
    "    // En los delegados, se pueden formar una variedad enorme dependiendo de la cantidad que se deseo o como se utilice\n",
    "    #endregion\n",
    "    // Ahora, generar los indexadores de la clase\n",
    "    #region Indexadores\n",
    "    // En los indexadores, se pueden formar una variedad enorme dependiendo de la cantidad que se deseo o como se utilice\n",
    "    #endregion\n",
    "    // Ahora, generar los operadores de la clase\n",
    "    #region Operadores\n",
    "    // En los operadores, se pueden formar una variedad enorme dependiendo de la cantidad que se deseo o como se utilice\n",
    "    public static bool operator ==(Persona p1, Persona p2) {\n",
    "        return p1.Id == p2.Id;\n",
    "    }\n",
    "    public static bool operator !=(Persona p1, Persona p2) {\n",
    "        return p1.Id != p2.Id;\n",
    "    }\n",
    "    public static Persona operator +(Persona p1, Persona p2) {\n",
    "        Persona p3 = new Persona();\n",
    "        p3.Nombre = \"Hijo de \" + p1.Nombre + \" y \" + p2.Nombre;\n",
    "        p3.Id =  p1.Id + p2.Id;\n",
    "        p3.Edad = 0;\n",
    "        p3.Sexo = \"NoSabe\";\n",
    "        return p3;\n",
    "    }\n",
    "    #endregion\n",
    "    /*\n",
    "    public override ToString() {\n",
    "        return \"Nombre: \" + this._nombre + \" ID: \" + this._id + \" Edad: \" + this._edad + \" Sexo: \" + this._sexo;\n",
    "    }\n",
    "    */\n",
    "}"
   ]
  },
  {
   "cell_type": "markdown",
   "metadata": {},
   "source": [
    "### Ahora, veremos como se instancia la clase"
   ]
  },
  {
   "cell_type": "code",
   "execution_count": 20,
   "metadata": {
    "vscode": {
     "languageId": "polyglot-notebook"
    }
   },
   "outputs": [
    {
     "name": "stdout",
     "output_type": "stream",
     "text": [
      "Nombre: Juan ID: 1 Edad: 20 Sexo: MasculinoNombre: NoSabe ID: 2 Edad: 0 Sexo: FemeninoNo son iguales\n",
      "Nombre: Juan ID: 1 Edad: 21 Sexo: MasculinoJuan\n",
      "Nuevo nombre de p1Pedro\n",
      "Nombre: Hijo de Pedro y NoSabe ID: 3 Edad: 0 Sexo: NoSabe"
     ]
    }
   ],
   "source": [
    "// Ahora, generar la clase Program\n",
    "Persona p1 = new Persona(\"Juan\", 1, 20, \"Masculino\");\n",
    "Persona p2 = new Persona(2, \"Femenino\");\n",
    "\n",
    "p1.MostrarDatos();\n",
    "p2.MostrarDatos();\n",
    "\n",
    "if (p1 == p2) {\n",
    "    Console.WriteLine(\"Son iguales\");\n",
    "} else {\n",
    "    Console.WriteLine(\"No son iguales\");\n",
    "}\n",
    "\n",
    "p1.Cumpleaños();\n",
    "p1.MostrarDatos();\n",
    "\n",
    "Console.WriteLine(p1.Nombre);\n",
    "p1.Nombre = \"Pedro\";\n",
    "Console.WriteLine(\"Nuevo nombre de p1\" + p1.Nombre);\n",
    "\n",
    "Persona p3 = p1 + p2;\n",
    "p3.MostrarDatos();\n"
   ]
  },
  {
   "cell_type": "markdown",
   "metadata": {},
   "source": [
    "Es importante decir que la programación orientada a objetos es sencilla, es cuando se trabaja en grandes escalas que puede volverse muy compleja.\n",
    "\n",
    "> Este documento es un repaso de código para mejorar en .NET, nanoframework y C#"
   ]
  }
 ],
 "metadata": {
  "kernelspec": {
   "display_name": ".NET (C#)",
   "language": "C#",
   "name": ".net-csharp"
  },
  "language_info": {
   "name": "python"
  },
  "polyglot_notebook": {
   "kernelInfo": {
    "defaultKernelName": "csharp",
    "items": [
     {
      "aliases": [],
      "name": "csharp"
     }
    ]
   }
  }
 },
 "nbformat": 4,
 "nbformat_minor": 2
}
